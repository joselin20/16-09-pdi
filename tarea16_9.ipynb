{
  "nbformat": 4,
  "nbformat_minor": 0,
  "metadata": {
    "colab": {
      "provenance": []
    },
    "kernelspec": {
      "name": "python3",
      "display_name": "Python 3"
    },
    "language_info": {
      "name": "python"
    }
  },
  "cells": [
    {
      "cell_type": "code",
      "execution_count": 1,
      "metadata": {
        "id": "kchDA9XregUY"
      },
      "outputs": [],
      "source": [
        "import pandas as pd"
      ]
    },
    {
      "cell_type": "code",
      "source": [
        "\n",
        "inicio = int(input('Introduce el año inicial: '))\n",
        "fin = int(input('Introduce el año final: '))\n",
        "ventas = {}\n",
        "for i in range(inicio, fin+1):\n",
        "    ventas[i] = float(input('Introduce las ventas del año ' + str(i) +': '))\n",
        "ventas = pd.Series(ventas)\n",
        "print('Ventas\\n', ventas)\n",
        "print('Ventas con descuento\\n', ventas*0.9)"
      ],
      "metadata": {
        "colab": {
          "base_uri": "https://localhost:8080/"
        },
        "id": "CmZbd6lEfYtp",
        "outputId": "c3f84c77-7358-40f0-a01f-6c9dd27ee22f"
      },
      "execution_count": 2,
      "outputs": [
        {
          "output_type": "stream",
          "name": "stdout",
          "text": [
            "Introduce el año inicial: 5\n",
            "Introduce el año final: 5\n",
            "Introduce las ventas del año 5: 50\n",
            "Ventas\n",
            " 5    50.0\n",
            "dtype: float64\n",
            "Ventas con descuento\n",
            " 5    45.0\n",
            "dtype: float64\n"
          ]
        }
      ]
    },
    {
      "cell_type": "code",
      "source": [
        "import pandas as pd\n",
        "\n",
        "def estadistica_notas(notas):\n",
        "    notas = pd.Series(notas)\n",
        "    estadisticos = pd.Series([notas.min(), notas.max(), notas.mean(), notas.std()], index=['Min', 'Max', 'Media', 'Desviación típica'])\n",
        "    return estadisticos\n",
        "\n",
        "notas = {'Juan':9, 'María':6.5, 'Pedro':4, 'Carmen': 8.5, 'Luis': 5}\n",
        "print(estadistica_notas(notas))\n"
      ],
      "metadata": {
        "colab": {
          "base_uri": "https://localhost:8080/"
        },
        "id": "qLhsTGOtfin3",
        "outputId": "708f0fb7-681c-4fce-b661-2c0db842c8d0"
      },
      "execution_count": 4,
      "outputs": [
        {
          "output_type": "stream",
          "name": "stdout",
          "text": [
            "Min                  4.000000\n",
            "Max                  9.000000\n",
            "Media                6.600000\n",
            "Desviación típica    2.162175\n",
            "dtype: float64\n"
          ]
        }
      ]
    },
    {
      "cell_type": "code",
      "source": [
        "import pandas as pd\n",
        "\n",
        "def aprobados(notas):\n",
        "    notas = pd.Series(notas)\n",
        "    return notas[notas >= 5].sort_values(ascending=False)\n",
        "\n",
        "notas = {'Juan':9, 'María':6.5, 'Pedro':4, 'Carmen': 8.5, 'Luis': 5}\n",
        "print(aprobados(notas))"
      ],
      "metadata": {
        "colab": {
          "base_uri": "https://localhost:8080/"
        },
        "id": "sRMlD0tKfoma",
        "outputId": "ae063adf-80af-47f3-f241-6153f416113b"
      },
      "execution_count": 5,
      "outputs": [
        {
          "output_type": "stream",
          "name": "stdout",
          "text": [
            "Juan      9.0\n",
            "Carmen    8.5\n",
            "María     6.5\n",
            "Luis      5.0\n",
            "dtype: float64\n"
          ]
        }
      ]
    }
  ]
}